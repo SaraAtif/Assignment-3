{
 "cells": [
  {
   "cell_type": "code",
   "execution_count": 2,
   "id": "d9b27342",
   "metadata": {},
   "outputs": [
    {
     "name": "stdout",
     "output_type": "stream",
     "text": [
      "Twinkle,Twinkle, little star,\n",
      "        How I wonder what you are!\n",
      "                Up above the world so high,\n",
      "                Like a diamond in the sky.\n",
      "Twinkle,Twinkle, little star,\n",
      "        How I wonder what you are.\n"
     ]
    }
   ],
   "source": [
    "#Q no 1\n",
    "print('''Twinkle,Twinkle, little star,\n",
    "        How I wonder what you are!\n",
    "                Up above the world so high,\n",
    "                Like a diamond in the sky.\n",
    "Twinkle,Twinkle, little star,\n",
    "        How I wonder what you are.''')"
   ]
  },
  {
   "cell_type": "code",
   "execution_count": 6,
   "id": "043a627f",
   "metadata": {},
   "outputs": [
    {
     "name": "stdout",
     "output_type": "stream",
     "text": [
      "C:\\Users\\Sara Atif\\anaconda3\\python.exe\n",
      "3.8.8 (default, Apr 13 2021, 15:08:03) [MSC v.1916 64 bit (AMD64)]\n"
     ]
    }
   ],
   "source": [
    "#Q no 2\n",
    "import sys\n",
    "print(sys.executable)\n",
    "print(sys.version)"
   ]
  },
  {
   "cell_type": "code",
   "execution_count": 7,
   "id": "f76c634e",
   "metadata": {},
   "outputs": [
    {
     "name": "stdout",
     "output_type": "stream",
     "text": [
      "2021-10-24 14:42:18\n"
     ]
    }
   ],
   "source": [
    "#Q no 3\n",
    "from datetime import datetime\n",
    "now = datetime.now();\n",
    "print (now.strftime(\"%Y-%m-%d %H:%M:%S\"))"
   ]
  },
  {
   "cell_type": "code",
   "execution_count": 15,
   "id": "41bb44b5",
   "metadata": {},
   "outputs": [
    {
     "name": "stdout",
     "output_type": "stream",
     "text": [
      "Enter of the radius 10\n",
      "Area of circle is 314.00\n"
     ]
    }
   ],
   "source": [
    "#Q no 4\n",
    "r=int(input(\"Enter of the radius \"))\n",
    "PI = 3.14;\n",
    "Area = PI * r * r\n",
    "print(\"Area of circle is %.2f\" %Area)"
   ]
  },
  {
   "cell_type": "code",
   "execution_count": 16,
   "id": "d0db301d",
   "metadata": {},
   "outputs": [
    {
     "name": "stdout",
     "output_type": "stream",
     "text": [
      "Input your First Name : Sara\n",
      "Input your Last Name : Atif\n",
      "Hello  Sara Atif\n"
     ]
    }
   ],
   "source": [
    "#Q no 5\n",
    "name1 = input(\"Input your First Name : \")\n",
    "name2 = input(\"Input your Last Name : \")\n",
    "print (\"Hello  \" + name1 + \" \" + name2)"
   ]
  },
  {
   "cell_type": "code",
   "execution_count": 18,
   "id": "d96e6753",
   "metadata": {},
   "outputs": [
    {
     "name": "stdout",
     "output_type": "stream",
     "text": [
      "Enter first number : 25\n",
      "Enter second number : 35\n",
      "60\n"
     ]
    }
   ],
   "source": [
    "#Q no 6\n",
    "number1 = int(input(\"Enter first number : \"))\n",
    "number2 = int(input(\"Enter second number : \"))\n",
    "print(number1 + number2 )"
   ]
  },
  {
   "cell_type": "code",
   "execution_count": 24,
   "id": "f76a0d5c",
   "metadata": {},
   "outputs": [
    {
     "name": "stdout",
     "output_type": "stream",
     "text": [
      "Enter marks of English : 77\n",
      "Enter marks of Urdu : 82\n",
      "Enter marks of Math : 95\n",
      "Enter marks of Isl : 92\n",
      "Enter marks of Sci : 75\n",
      "Grade A+\n"
     ]
    }
   ],
   "source": [
    "#Q no 7\n",
    "\n",
    "Eng = int(input(\"Enter marks of English : \"))\n",
    "Urdu = int(input(\"Enter marks of Urdu : \"))\n",
    "Math = int(input(\"Enter marks of Math : \"))\n",
    "Isl = int(input(\"Enter marks of Isl : \"))\n",
    "Sci = int(input(\"Enter marks of Sci : \"))\n",
    "ob_marks = Eng+Urdu+Math+Isl+Sci;\n",
    "Total_marks = 500;\n",
    "per = (ob_marks/Total_marks)*100\n",
    "if per < 100 and per >=80:\n",
    "    print(\"Grade A+\")\n",
    "elif per < 80 and per >= 70:\n",
    "    print(\"Grade A\")\n",
    "elif per < 70 and per >= 60:\n",
    "    print(\"Grade B\")\n",
    "elif per < 60 and per >= 50:\n",
    "    print(\"Grade C\")\n",
    "else:\n",
    "    print(\"Fail\")\n",
    "\n",
    " "
   ]
  },
  {
   "cell_type": "code",
   "execution_count": 25,
   "id": "189bc85a",
   "metadata": {},
   "outputs": [
    {
     "name": "stdout",
     "output_type": "stream",
     "text": [
      "Enter a number: 78\n",
      "78 is Even number\n"
     ]
    }
   ],
   "source": [
    "#Q no 8\n",
    "num = int(input(\"Enter a number: \"))  \n",
    "if (num % 2) == 0:  \n",
    "   print(\"{0} is Even number\".format(num))  \n",
    "else:  \n",
    "   print(\"{0} is Odd number\".format(num))  "
   ]
  },
  {
   "cell_type": "code",
   "execution_count": 27,
   "id": "8a13d915",
   "metadata": {},
   "outputs": [
    {
     "name": "stdout",
     "output_type": "stream",
     "text": [
      "Number of elements of the list is  5\n"
     ]
    }
   ],
   "source": [
    "#Q no 9\n",
    "List = [\"Sara\" , \"Bilal\" , 7,0.3,False]\n",
    "print(\"Number of elements of the list is \", len(List))"
   ]
  },
  {
   "cell_type": "code",
   "execution_count": 28,
   "id": "f146e586",
   "metadata": {},
   "outputs": [
    {
     "name": "stdout",
     "output_type": "stream",
     "text": [
      "Sum of the list is  161\n"
     ]
    }
   ],
   "source": [
    "#Q no 10\n",
    "\n",
    "List = [25,42,10,9,75];\n",
    "Total = sum(List);\n",
    "print(\"Sum of the list is \", Total)"
   ]
  },
  {
   "cell_type": "code",
   "execution_count": 29,
   "id": "801e721b",
   "metadata": {},
   "outputs": [
    {
     "name": "stdout",
     "output_type": "stream",
     "text": [
      "Largest num of the List is  75\n"
     ]
    }
   ],
   "source": [
    "#Q no 11\n",
    "\n",
    "List = [25,42,10,9,75];\n",
    "print(\"Largest num of the List is \", max(List))"
   ]
  },
  {
   "cell_type": "code",
   "execution_count": 33,
   "id": "67439280",
   "metadata": {},
   "outputs": [
    {
     "name": "stdout",
     "output_type": "stream",
     "text": [
      "10\n",
      "9\n"
     ]
    }
   ],
   "source": [
    "#Q no 12\n",
    "\n",
    "List = [25,42,10,9,75];\n",
    "for num in List:\n",
    " if num < 15:\n",
    "    print(num)"
   ]
  },
  {
   "cell_type": "code",
   "execution_count": null,
   "id": "f1d39f6e",
   "metadata": {},
   "outputs": [],
   "source": []
  }
 ],
 "metadata": {
  "kernelspec": {
   "display_name": "Python 3",
   "language": "python",
   "name": "python3"
  },
  "language_info": {
   "codemirror_mode": {
    "name": "ipython",
    "version": 3
   },
   "file_extension": ".py",
   "mimetype": "text/x-python",
   "name": "python",
   "nbconvert_exporter": "python",
   "pygments_lexer": "ipython3",
   "version": "3.8.8"
  }
 },
 "nbformat": 4,
 "nbformat_minor": 5
}
